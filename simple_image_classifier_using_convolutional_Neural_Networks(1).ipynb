{
  "nbformat": 4,
  "nbformat_minor": 0,
  "metadata": {
    "colab": {
      "name": "simple_image_classifier_using_convolutional_Neural_Networks.ipynb",
      "provenance": [],
      "collapsed_sections": [],
      "toc_visible": true
    },
    "kernelspec": {
      "name": "python3",
      "display_name": "Python 3"
    }
  },
  "cells": [
    {
      "cell_type": "markdown",
      "metadata": {
        "id": "RWnkhqnoo2cn",
        "colab_type": "text"
      },
      "source": [
        "#objective\n",
        "To craete a CNN model and use the model to classify handwritten digits.\n",
        "\n"
      ]
    },
    {
      "cell_type": "markdown",
      "metadata": {
        "id": "7D_yXERdqOEX",
        "colab_type": "text"
      },
      "source": [
        "#workflow\n",
        "1. Load the dataset MNIST and examine the structure\n",
        "\n",
        "\n",
        "*   use any library to load the dataset (include both tensorflow and pytorch modules )\n",
        "*   take a look at data, inspecting its size,shape and quantity.\n",
        "* view random samples using either openCV or MATPLOTLIB of the handwritten digits and observe the complexiy of the image \n",
        " 2. using Numpy to prepare the dataset for the training\n",
        "\n",
        "\n",
        "*   Ensure the format or shape of the data is appropriate for input into the model. (One-hot-encoding) https://www.geeksforgeeks.org/ml-one-hot-encoding-of-datasets-in-python/\n",
        "*   Ensure the data types are correct and data is normalized\n",
        "3. Create a CNN with the following specifications\n",
        "*   Input dimensions 28 * 28 * 1\n",
        "*   Two Convolution layers (Kernel size 3*3) first with 64 filters, second 32. Use ReLU (Rectified Linear Unit) - activation layer\n",
        "*   Max Pooling size 2*2\n",
        "*   Dropout Layer 0.25\n",
        "*   Dense layer with 128 outputs\n",
        "*   Add another dropout layer with rate setting of 0.5\n",
        "*   Add final dropout layer that indicates the class probabilities.\n",
        "4. Train the CNN on the MNIST dataset prepared in step 2\n",
        "*   Train for atleast 10 epochs using batch size of 32\n",
        "5. Plot gragh showing how your training and validation loss and accuracy chached with respect to Epochs completed.\n",
        "6. Save the model, will be used in part two.\n",
        "7. Test the models on random samples on the test data.\n",
        "\n",
        "\n",
        " \n",
        "\n",
        "\n",
        "\n",
        "\n"
      ]
    },
    {
      "cell_type": "markdown",
      "metadata": {
        "id": "gdvK95O1m73h",
        "colab_type": "text"
      },
      "source": [
        ""
      ]
    },
    {
      "cell_type": "markdown",
      "metadata": {
        "id": "rAhUsnP2mpOG",
        "colab_type": "text"
      },
      "source": [
        "\n"
      ]
    },
    {
      "cell_type": "markdown",
      "metadata": {
        "id": "2sYm4Sjyo4n9",
        "colab_type": "text"
      },
      "source": [
        ""
      ]
    },
    {
      "cell_type": "markdown",
      "metadata": {
        "id": "1zEYejiKo9Ur",
        "colab_type": "text"
      },
      "source": [
        "\n",
        "# deliverable\n",
        "Jupyter Notebook that documents the workflow as we take the MNIST dataset, view samples, convert into right shape/format as required for the deep learning library\n"
      ]
    },
    {
      "cell_type": "markdown",
      "metadata": {
        "id": "Vt8X90s8GG-B",
        "colab_type": "text"
      },
      "source": [
        "# Loading the Handwritten Digit Dataset (MNIST)\n",
        "\"\"\""
      ]
    },
    {
      "cell_type": "markdown",
      "metadata": {
        "id": "MkZT1LuwndbX",
        "colab_type": "text"
      },
      "source": [
        ""
      ]
    },
    {
      "cell_type": "code",
      "metadata": {
        "id": "DCl_6h0IGMot",
        "colab_type": "code",
        "colab": {}
      },
      "source": [
        "from tensorflow.keras.datasets import mnist\n"
      ],
      "execution_count": 3,
      "outputs": []
    },
    {
      "cell_type": "markdown",
      "metadata": {
        "id": "soJ5y_15pCIO",
        "colab_type": "text"
      },
      "source": [
        "load the dataset(divide into train and test data)"
      ]
    },
    {
      "cell_type": "code",
      "metadata": {
        "id": "Es4rwd94mkrY",
        "colab_type": "code",
        "colab": {}
      },
      "source": [
        "(x_train, y_train),(x_test, y_test) = mnist.load_data()\n"
      ],
      "execution_count": 4,
      "outputs": []
    },
    {
      "cell_type": "markdown",
      "metadata": {
        "id": "aQFiZTNFImsC",
        "colab_type": "text"
      },
      "source": [
        "#Display the number of samples in x_train, x_test, y_train, y_test"
      ]
    },
    {
      "cell_type": "code",
      "metadata": {
        "id": "UiNOCtVtIpRA",
        "colab_type": "code",
        "colab": {
          "base_uri": "https://localhost:8080/",
          "height": 256
        },
        "outputId": "75e72f6c-1b67-44ef-bb1e-7575a4df078b"
      },
      "source": [
        "print(\"initial shape or dimensions of x_train\",str(x_train.shape)+'\\n')\n",
        "print('Number of samples in training data: '+str(len(x_train)))\n",
        "print('Number of labels in training data: '+ str(len(y_train)))\n",
        "print('Number of samples in test data: '+str(len(x_test)))\n",
        "print('Number of labels in test data: '+str(len(y_test))+ '\\n')\n",
        "print('Dimensions of x_train: '+str(x_train[0].shape))\n",
        "print('Labels in x_train: '+str(y_train.shape)+'\\n')\n",
        "print('Dimensions of x_test: '+str(x_test[0].shape))\n",
        "print('Labels in x_test: '+str(y_test.shape)+'\\n')"
      ],
      "execution_count": 5,
      "outputs": [
        {
          "output_type": "stream",
          "text": [
            "initial shape or dimensions of x_train (60000, 28, 28)\n",
            "\n",
            "Number of samples in training data: 60000\n",
            "Number of labels in training data: 60000\n",
            "Number of samples in test data: 10000\n",
            "Number of labels in test data: 10000\n",
            "\n",
            "Dimensions of x_train: (28, 28)\n",
            "Labels in x_train: (60000,)\n",
            "\n",
            "Dimensions of x_test: (28, 28)\n",
            "Labels in x_test: (10000,)\n",
            "\n"
          ],
          "name": "stdout"
        }
      ]
    },
    {
      "cell_type": "markdown",
      "metadata": {
        "id": "i-DDUopkI04b",
        "colab_type": "text"
      },
      "source": [
        "# Take a look at the images in the Dataset"
      ]
    },
    {
      "cell_type": "code",
      "metadata": {
        "id": "Tg5xN1gqI5tj",
        "colab_type": "code",
        "colab": {}
      },
      "source": [
        "import matplotlib.pyplot as plt\n",
        "import numpy as np"
      ],
      "execution_count": 6,
      "outputs": []
    },
    {
      "cell_type": "markdown",
      "metadata": {
        "id": "bPyLqYIsJGBL",
        "colab_type": "text"
      },
      "source": [
        "#Plot 6 images in subplots\n",
        "#set the colormap to grey since our image data is in greyscale"
      ]
    },
    {
      "cell_type": "code",
      "metadata": {
        "id": "LBcCnDcjJJO_",
        "colab_type": "code",
        "colab": {
          "base_uri": "https://localhost:8080/",
          "height": 191
        },
        "outputId": "6e0aa85a-2f31-4eee-ed0e-17903b2cbfc9"
      },
      "source": [
        "plt.subplot(331)\n",
        "random_num = np.random.randint(0, len(x_train))\n",
        "_=plt.imshow(x_train[random_num],cmap=plt.get_cmap('gray'))\n",
        "plt.subplot(332)\n",
        "random_num = np.random.randint(0, len(x_train))\n",
        "_=plt.imshow(x_train[random_num],cmap=plt.get_cmap('gray'))\n",
        "\n",
        "plt.subplot(333)\n",
        "random_num = np.random.randint(0, len(x_train))\n",
        "_=plt.imshow(x_train[random_num],cmap=plt.get_cmap('gray'))\n",
        "\n",
        "plt.subplot(334)\n",
        "random_num = np.random.randint(0, len(x_train))\n",
        "_=plt.imshow(x_train[random_num],cmap=plt.get_cmap('gray'))\n",
        "\n",
        "plt.subplot(335)\n",
        "random_num = np.random.randint(0, len(x_train))\n",
        "_=plt.imshow(x_train[random_num],cmap=plt.get_cmap('gray'))\n",
        "\n",
        "plt.subplot(336)\n",
        "random_num = np.random.randint(0, len(x_train))\n",
        "_=plt.imshow(x_train[random_num],cmap=plt.get_cmap('gray'))\n",
        "\n"
      ],
      "execution_count": 7,
      "outputs": [
        {
          "output_type": "display_data",
          "data": {
            "image/png": "[encoded data removed]",
            "text/plain": [
              "<Figure size 432x288 with 6 Axes>"
            ]
          },
          "metadata": {
            "tags": [],
            "needs_background": "light"
          }
        }
      ]
    },
    {
      "cell_type": "markdown",
      "metadata": {
        "id": "ouJkk1NPJnwv",
        "colab_type": "text"
      },
      "source": [
        "#Preparing Dataset for Keras\n",
        "\n",
        "Keras Requires input data as a 4-d shape of (60000,28,28,1). When we initially loaded our data, x_train was (60000, 28,28). We need out label to be one-hot-encoded ().\n",
        "\"\"\""
      ]
    },
    {
      "cell_type": "markdown",
      "metadata": {
        "id": "7CfcAqEWJse0",
        "colab_type": "text"
      },
      "source": [
        "#Store rows and columns"
      ]
    },
    {
      "cell_type": "code",
      "metadata": {
        "id": "Al5lWlaGJv_p",
        "colab_type": "code",
        "colab": {}
      },
      "source": [
        "img_rows = x_train[0].shape[0]\n",
        "img_cols = x_train[0].shape[1]"
      ],
      "execution_count": 8,
      "outputs": []
    },
    {
      "cell_type": "markdown",
      "metadata": {
        "id": "BKMOhNTZJ5qq",
        "colab_type": "text"
      },
      "source": [
        "#get data in right shape for keras.\n",
        "#add a forth dimensio to our data (60000,28,28) to (60000,28,28,1)"
      ]
    },
    {
      "cell_type": "code",
      "metadata": {
        "id": "C2UZ6GvvJReF",
        "colab_type": "code",
        "colab": {}
      },
      "source": [
        "x_train=x_train.reshape(x_train.shape[0],img_rows, img_cols,1)\n",
        "x_test=x_test.reshape(x_test.shape[0],img_rows, img_cols,1)\n"
      ],
      "execution_count": 9,
      "outputs": []
    },
    {
      "cell_type": "markdown",
      "metadata": {
        "id": "It8eMHtAKDoz",
        "colab_type": "text"
      },
      "source": [
        "#Store shape of single image for future use as a variable storing our input shape"
      ]
    },
    {
      "cell_type": "code",
      "metadata": {
        "id": "he5ZRnodKJS8",
        "colab_type": "code",
        "colab": {}
      },
      "source": [
        "input_shape = (img_rows,img_cols,1)"
      ],
      "execution_count": 10,
      "outputs": []
    },
    {
      "cell_type": "markdown",
      "metadata": {
        "id": "YnOn3UqaKP10",
        "colab_type": "text"
      },
      "source": [
        "#Change image type to float"
      ]
    },
    {
      "cell_type": "code",
      "metadata": {
        "id": "jIioHQvaKTPW",
        "colab_type": "code",
        "colab": {}
      },
      "source": [
        "x_train=x_train.astype('float32')\n",
        "x_test = x_test.astype('float32')\n"
      ],
      "execution_count": 11,
      "outputs": []
    },
    {
      "cell_type": "markdown",
      "metadata": {
        "id": "Air8og9TKiIZ",
        "colab_type": "text"
      },
      "source": [
        "#Normalize data by changing the range from 0-255 to 0-1"
      ]
    },
    {
      "cell_type": "code",
      "metadata": {
        "id": "rwzU_CLkKjVp",
        "colab_type": "code",
        "colab": {
          "base_uri": "https://localhost:8080/",
          "height": 72
        },
        "outputId": "6d3cc8af-b8a2-4089-e234-73af5ce6c645"
      },
      "source": [
        "x_train /=255.0\n",
        "x_test /=255.0\n",
        "print('x_train shape: ',x_train.shape)\n",
        "print(x_train.shape[0], 'train samples')\n",
        "print(x_test.shape[0], 'test samples')\n"
      ],
      "execution_count": 12,
      "outputs": [
        {
          "output_type": "stream",
          "text": [
            "x_train shape:  (60000, 28, 28, 1)\n",
            "60000 train samples\n",
            "10000 test samples\n"
          ],
          "name": "stdout"
        }
      ]
    },
    {
      "cell_type": "markdown",
      "metadata": {
        "id": "ZNNS5o3pKx6E",
        "colab_type": "text"
      },
      "source": [
        "#Perform One-hot-encoding of data labels"
      ]
    },
    {
      "cell_type": "code",
      "metadata": {
        "id": "zezB8EQRK7Lm",
        "colab_type": "code",
        "colab": {}
      },
      "source": [
        "from tensorflow.keras.utils import to_categorical"
      ],
      "execution_count": 13,
      "outputs": []
    },
    {
      "cell_type": "markdown",
      "metadata": {
        "id": "kIRaoLJmK_wP",
        "colab_type": "text"
      },
      "source": [
        "#one hot encode for output"
      ]
    },
    {
      "cell_type": "code",
      "metadata": {
        "id": "OQgITvSjLDwI",
        "colab_type": "code",
        "colab": {}
      },
      "source": [
        "y_train = to_categorical(y_train)\n",
        "y_test = to_categorical(y_test)"
      ],
      "execution_count": 14,
      "outputs": []
    },
    {
      "cell_type": "markdown",
      "metadata": {
        "id": "bFpQP_AdLIWg",
        "colab_type": "text"
      },
      "source": [
        "#count cols in our hot encoded matrix"
      ]
    },
    {
      "cell_type": "code",
      "metadata": {
        "id": "qzLQDICJLMHX",
        "colab_type": "code",
        "colab": {
          "base_uri": "https://localhost:8080/",
          "height": 35
        },
        "outputId": "9a975f3e-51f6-4d4a-e2ae-af31162413a1"
      },
      "source": [
        "print('Number of classes: '+str(y_test.shape[1]))\n",
        "num_classes = y_test.shape[1]\n"
      ],
      "execution_count": 15,
      "outputs": [
        {
          "output_type": "stream",
          "text": [
            "Number of classes: 10\n"
          ],
          "name": "stdout"
        }
      ]
    },
    {
      "cell_type": "markdown",
      "metadata": {
        "id": "1IPrb0K0LTF5",
        "colab_type": "text"
      },
      "source": [
        "#Create the CNN Model"
      ]
    },
    {
      "cell_type": "code",
      "metadata": {
        "id": "8OLoHfKgLaR4",
        "colab_type": "code",
        "colab": {}
      },
      "source": [
        "from tensorflow.keras.models import Sequential\n",
        "from tensorflow.keras.layers import Dense, Dropout, Flatten\n",
        "from tensorflow.keras.layers import Conv2D, MaxPooling2D\n",
        "from tensorflow.keras import backend as k\n",
        "from tensorflow.keras.optimizers import SGD"
      ],
      "execution_count": 16,
      "outputs": []
    },
    {
      "cell_type": "markdown",
      "metadata": {
        "id": "lMUjyCykLiHQ",
        "colab_type": "text"
      },
      "source": [
        "#create the model"
      ]
    },
    {
      "cell_type": "code",
      "metadata": {
        "id": "WeGANamsLmug",
        "colab_type": "code",
        "colab": {}
      },
      "source": [
        "model = Sequential()"
      ],
      "execution_count": 17,
      "outputs": []
    },
    {
      "cell_type": "markdown",
      "metadata": {
        "id": "49J7-kguL0lA",
        "colab_type": "text"
      },
      "source": [
        "#First Convolutional Layer, Filter size 32 which reduces layer size to 26*26*32\n",
        "#We use ReLU activation and our input shape 28*28*1"
      ]
    },
    {
      "cell_type": "code",
      "metadata": {
        "id": "5vLcEXxiL2MX",
        "colab_type": "code",
        "colab": {}
      },
      "source": [
        "model.add(Conv2D(32, kernel_size=(3,3), activation='relu', input_shape=input_shape))"
      ],
      "execution_count": 18,
      "outputs": []
    },
    {
      "cell_type": "markdown",
      "metadata": {
        "id": "ITJUeQRKL9Nm",
        "colab_type": "text"
      },
      "source": [
        "#Second Convolutional layer, Filter size of 64 which reduces our layer size to 24*24*64\n"
      ]
    },
    {
      "cell_type": "code",
      "metadata": {
        "id": "GWXiKRdgMA7z",
        "colab_type": "code",
        "colab": {}
      },
      "source": [
        "model.add(Conv2D(64, (3,3), activation='relu'))"
      ],
      "execution_count": 19,
      "outputs": []
    },
    {
      "cell_type": "markdown",
      "metadata": {
        "id": "dS1O2hVtMNDn",
        "colab_type": "text"
      },
      "source": [
        "#Use maxpooling with kernel size of 2*2 reducing size to 12*12*64"
      ]
    },
    {
      "cell_type": "code",
      "metadata": {
        "id": "l_j4CgJPMN5y",
        "colab_type": "code",
        "colab": {}
      },
      "source": [
        "model.add(MaxPooling2D(pool_size=(2,2)))"
      ],
      "execution_count": 20,
      "outputs": []
    },
    {
      "cell_type": "markdown",
      "metadata": {
        "id": "nE4AhZYLMSc6",
        "colab_type": "text"
      },
      "source": [
        "#Dropout P setting as 0.25 ro reduce overfitting"
      ]
    },
    {
      "cell_type": "code",
      "metadata": {
        "id": "piSYHaspMeDc",
        "colab_type": "code",
        "colab": {
          "base_uri": "https://localhost:8080/",
          "height": 439
        },
        "outputId": "5e50f472-1f87-4f3d-cf29-1bf36c4d3a5d"
      },
      "source": [
        "model.add(Dropout(0.25))\n",
        "#Flatten our Tensor object befor input into our dense layer\n",
        "#A flatten op on a tensor reshapes the tensor to have the shape that is \n",
        "#equal to the number of elements in the tensor\n",
        "#Our CNN goes from 12*12*64 to 9*16*1\n",
        "model.add(Flatten())\n",
        "#We use another Dropout layer\n",
        "model.add(Dropout(0.5))\n",
        "#Create a fully connected/Dense layer with an output of each class (10)\n",
        "model.add(Dense(num_classes, activation='softmax'))\n",
        "#Compileour model, creates an object that stores the model. We set the optimizer\n",
        "#to use stochastic Gradient Descent (Learning rate of 0.01)\n",
        "#We set loss function to be categorical_crossentropy as it's suitable for multiclass\n",
        "#problems. And finally the metrics ( to judge the performance of the model)\n",
        "#We use accuracy\n",
        "model.compile(loss='categorical_crossentropy', optimizer=SGD(0.01),metrics=['accuracy'])\n",
        "#The summary function can be used to display the model layers and parameters\n",
        "print(model.summary())"
      ],
      "execution_count": 21,
      "outputs": [
        {
          "output_type": "stream",
          "text": [
            "Model: \"sequential\"\n",
            "_________________________________________________________________\n",
            "Layer (type)                 Output Shape              Param #   \n",
            "=================================================================\n",
            "conv2d (Conv2D)              (None, 26, 26, 32)        320       \n",
            "_________________________________________________________________\n",
            "conv2d_1 (Conv2D)            (None, 24, 24, 64)        18496     \n",
            "_________________________________________________________________\n",
            "max_pooling2d (MaxPooling2D) (None, 12, 12, 64)        0         \n",
            "_________________________________________________________________\n",
            "dropout (Dropout)            (None, 12, 12, 64)        0         \n",
            "_________________________________________________________________\n",
            "flatten (Flatten)            (None, 9216)              0         \n",
            "_________________________________________________________________\n",
            "dropout_1 (Dropout)          (None, 9216)              0         \n",
            "_________________________________________________________________\n",
            "dense (Dense)                (None, 10)                92170     \n",
            "=================================================================\n",
            "Total params: 110,986\n",
            "Trainable params: 110,986\n",
            "Non-trainable params: 0\n",
            "_________________________________________________________________\n",
            "None\n"
          ],
          "name": "stdout"
        }
      ]
    },
    {
      "cell_type": "markdown",
      "metadata": {
        "id": "DZwOMxZiNFks",
        "colab_type": "text"
      },
      "source": [
        "#Train the CNN\n"
      ]
    },
    {
      "cell_type": "code",
      "metadata": {
        "id": "H9WnVPQCNO-e",
        "colab_type": "code",
        "colab": {
          "base_uri": "https://localhost:8080/",
          "height": 441
        },
        "outputId": "2fc0af99-a7cc-4d27-f603-e8a55d31d267"
      },
      "source": [
        "batch_size = 32\n",
        "epochs = 10\n",
        "#Store the results for plotting later\n",
        "# in our fit function we specify our dataset (X_train, y_train)\n",
        "#batch_size (typically 16 to 128 --Depending on RAM). NUmber of epochs (10 to 100)\n",
        "#Validation dataset (X_test, y_test)\n",
        "#Verbose = 1, setting training to output performance metric every epoch\n",
        "history = model.fit(x_train, y_train, batch_size=batch_size,epochs=epochs, \n",
        "                    verbose=1, \n",
        "                    validation_data=(x_test,y_test))\n",
        "#We obtain accuracy score using the evaluative fn \n",
        "score=model.evaluate(x_test,y_test,verbose=0)\n",
        "print('Test loss: ', score[0])\n",
        "print('Test Accuracy: ', score[1])"
      ],
      "execution_count": 22,
      "outputs": [
        {
          "output_type": "stream",
          "text": [
            "Epoch 1/10\n",
            "1875/1875 [==============================] - 148s 79ms/step - loss: 0.5284 - accuracy: 0.8399 - val_loss: 0.2553 - val_accuracy: 0.9292\n",
            "Epoch 2/10\n",
            "1875/1875 [==============================] - 147s 79ms/step - loss: 0.2428 - accuracy: 0.9293 - val_loss: 0.1361 - val_accuracy: 0.9611\n",
            "Epoch 3/10\n",
            "1875/1875 [==============================] - 148s 79ms/step - loss: 0.1583 - accuracy: 0.9529 - val_loss: 0.0905 - val_accuracy: 0.9735\n",
            "Epoch 4/10\n",
            "1875/1875 [==============================] - 148s 79ms/step - loss: 0.1236 - accuracy: 0.9632 - val_loss: 0.0774 - val_accuracy: 0.9771\n",
            "Epoch 5/10\n",
            "1875/1875 [==============================] - 148s 79ms/step - loss: 0.1074 - accuracy: 0.9675 - val_loss: 0.0686 - val_accuracy: 0.9793\n",
            "Epoch 6/10\n",
            "1875/1875 [==============================] - 147s 79ms/step - loss: 0.0960 - accuracy: 0.9715 - val_loss: 0.0628 - val_accuracy: 0.9807\n",
            "Epoch 7/10\n",
            "1875/1875 [==============================] - 146s 78ms/step - loss: 0.0915 - accuracy: 0.9726 - val_loss: 0.0561 - val_accuracy: 0.9833\n",
            "Epoch 8/10\n",
            "1875/1875 [==============================] - 147s 78ms/step - loss: 0.0820 - accuracy: 0.9748 - val_loss: 0.0525 - val_accuracy: 0.9843\n",
            "Epoch 9/10\n",
            "1875/1875 [==============================] - 146s 78ms/step - loss: 0.0793 - accuracy: 0.9762 - val_loss: 0.0506 - val_accuracy: 0.9843\n",
            "Epoch 10/10\n",
            "1875/1875 [==============================] - 146s 78ms/step - loss: 0.0742 - accuracy: 0.9777 - val_loss: 0.0475 - val_accuracy: 0.9849\n",
            "Test loss:  0.04753318056464195\n",
            "Test Accuracy:  0.9848999977111816\n"
          ],
          "name": "stdout"
        }
      ]
    },
    {
      "cell_type": "markdown",
      "metadata": {
        "id": "qE3dowi29C21",
        "colab_type": "text"
      },
      "source": [
        "#plot loss charts"
      ]
    },
    {
      "cell_type": "code",
      "metadata": {
        "id": "Q5YLxc80uAfh",
        "colab_type": "code",
        "colab": {
          "base_uri": "https://localhost:8080/",
          "height": 35
        },
        "outputId": "8a08407e-9a34-4105-e82f-384a1899addb"
      },
      "source": [
        "from google.colab import drive\n",
        "drive.mount('/content/drive')"
      ],
      "execution_count": 23,
      "outputs": [
        {
          "output_type": "stream",
          "text": [
            "Mounted at /content/drive\n"
          ],
          "name": "stdout"
        }
      ]
    },
    {
      "cell_type": "code",
      "metadata": {
        "id": "eB4cREfG9J2R",
        "colab_type": "code",
        "colab": {
          "base_uri": "https://localhost:8080/",
          "height": 279
        },
        "outputId": "9056f807-41c4-4420-a20f-aa4cae93b9de"
      },
      "source": [
        "import matplotlib.pyplot as plt\n",
        "#use the history object to get our saved performance results\n",
        "history_dict = history.history\n",
        "\n",
        "#extract the loss and the validation losses\n",
        "loss_values=history_dict['loss']\n",
        "val_loss_values=history_dict['val_loss']\n",
        "\n",
        "#get the number of epochs and create an array up to that number using range()\n",
        "epochs=range(1, len(loss_values) +1)\n",
        "\n",
        "#Plot line charts for both validation and loss\n",
        "line1 = plt.plot(epochs, val_loss_values, label='Validation/Test loss')\n",
        "line2 = plt.plot(epochs, loss_values, label='Training loss')\n",
        "plt.setp(line1, linewidth=2.0, marker='+', markersize=10.0)\n",
        "plt.setp(line2, linewidth=2.0, marker='4', markersize=10.0)\n",
        "plt.xlabel('Epochs')\n",
        "plt.ylabel('Loss')\n",
        "plt.grid(True)\n",
        "plt.legend()\n",
        "plt.show()"
      ],
      "execution_count": 24,
      "outputs": [
        {
          "output_type": "display_data",
          "data": {
            "image/png": "[encoded data removed]",
            "text/plain": [
              "<Figure size 432x288 with 1 Axes>"
            ]
          },
          "metadata": {
            "tags": [],
            "needs_background": "light"
          }
        }
      ]
    },
    {
      "cell_type": "markdown",
      "metadata": {
        "id": "k8hK9-VJAL9X",
        "colab_type": "text"
      },
      "source": [
        "#Plot of Accuracy"
      ]
    },
    {
      "cell_type": "markdown",
      "metadata": {
        "id": "z9uZAkPkm_Fa",
        "colab_type": "text"
      },
      "source": [
        ""
      ]
    },
    {
      "cell_type": "code",
      "metadata": {
        "id": "hKhGXp6WAQqj",
        "colab_type": "code",
        "colab": {}
      },
      "source": [
        "#Plotting the accuracy chart\n",
        "import matplotlib.pyplot as plt\n",
        "#Use the history object to get our svaed performace results\n",
        "from keras.callbacks import History \n",
        "history_dict=history.history\n"
      ],
      "execution_count": 25,
      "outputs": []
    },
    {
      "cell_type": "markdown",
      "metadata": {
        "id": "V9r4aHidnEh8",
        "colab_type": "text"
      },
      "source": [
        "#extract the loss and the validation losses"
      ]
    },
    {
      "cell_type": "code",
      "metadata": {
        "id": "Z2fEkQhanK2X",
        "colab_type": "code",
        "colab": {}
      },
      "source": [
        "acc_values=history_dict['accuracy']\n",
        "val_acc_values=history_dict['val_accuracy']\n",
        "#get the number of epochs and create an array up to that number using range()\n",
        "epochs=range(1, len(acc_values) +1)\n"
      ],
      "execution_count": 26,
      "outputs": []
    },
    {
      "cell_type": "markdown",
      "metadata": {
        "id": "LxtxWDL7o6vP",
        "colab_type": "text"
      },
      "source": [
        ""
      ]
    },
    {
      "cell_type": "markdown",
      "metadata": {
        "id": "IDz0thzGo7_a",
        "colab_type": "text"
      },
      "source": [
        "#Plot line charts for both validation and loss"
      ]
    },
    {
      "cell_type": "code",
      "metadata": {
        "id": "Dac1LuW3pICx",
        "colab_type": "code",
        "colab": {
          "base_uri": "https://localhost:8080/",
          "height": 279
        },
        "outputId": "4ea90b68-013d-45c8-a760-69da235acf05"
      },
      "source": [
        "line1 = plt.plot(epochs, val_acc_values, label='Validation/Test Accuracy')\n",
        "line2 = plt.plot(epochs, acc_values, label='Training')\n",
        "plt.setp(line1, linewidth=2.0, marker='+', markersize=10.0)\n",
        "plt.setp(line2, linewidth=2.0, marker='4', markersize=10.0)\n",
        "plt.xlabel('Epochs')\n",
        "plt.ylabel('Loss')\n",
        "plt.grid(True)\n",
        "plt.legend()\n",
        "plt.show()\n",
        "\n"
      ],
      "execution_count": 27,
      "outputs": [
        {
          "output_type": "display_data",
          "data": {
            "image/png": "[encoded data removed]",
            "text/plain": [
              "<Figure size 432x288 with 1 Axes>"
            ]
          },
          "metadata": {
            "tags": [],
            "needs_background": "light"
          }
        }
      ]
    },
    {
      "cell_type": "markdown",
      "metadata": {
        "id": "-xSNEC-7pZRR",
        "colab_type": "text"
      },
      "source": [
        "#saving the model"
      ]
    },
    {
      "cell_type": "markdown",
      "metadata": {
        "id": "JUpbx58ap1_b",
        "colab_type": "text"
      },
      "source": [
        ""
      ]
    },
    {
      "cell_type": "code",
      "metadata": {
        "id": "l7AbS3lmp806",
        "colab_type": "code",
        "colab": {
          "base_uri": "https://localhost:8080/",
          "height": 288
        },
        "outputId": "f721ba4f-4545-46f0-e8a8-c7ba55c4737f"
      },
      "source": [
        "model.save('/content/drive/mnist_simple_cnn_10_Epochs.h5')\n",
        "print('model is saved')\n",
        "import numpy as np\n",
        "figure=plt.figure(figsize=(20,20))\n",
        "for i in range(5):\n",
        "  figure.add_subplot(1,5,i+1)\n",
        "  random_idx=np.random.randint(0,len(x_test))\n",
        "  plt.imshow(x_test[random_idx,:,:,0],cmap='gray')\n",
        "  plt.axis('off')\n",
        "  print(np.squeeze(np.argmax(model.predict(x_test[random_idx].reshape(1,28,28,1)), axis=1),axis=0))\n",
        "  "
      ],
      "execution_count": 28,
      "outputs": [
        {
          "output_type": "stream",
          "text": [
            "model is saved\n",
            "0\n",
            "1\n",
            "0\n",
            "2\n",
            "0\n"
          ],
          "name": "stdout"
        },
        {
          "output_type": "display_data",
          "data": {
            "image/png": "[encoded data removed]",
            "text/plain": [
              "<Figure size 1440x1440 with 5 Axes>"
            ]
          },
          "metadata": {
            "tags": [],
            "needs_background": "light"
          }
        }
      ]
    },
    {
      "cell_type": "markdown",
      "metadata": {
        "id": "oUo1S9gj6v9T",
        "colab_type": "text"
      },
      "source": [
        "# Part Two\n"
      ]
    },
    {
      "cell_type": "code",
      "metadata": {
        "id": "ZBl_DNsa669Q",
        "colab_type": "code",
        "colab": {}
      },
      "source": [
        "#reload the data and model\n",
        "from tensorflow.keras.models import load_model\n",
        "from tensorflow.keras.utils import to_categorical\n",
        "from tensorflow.keras.datasets import mnist\n",
        "\n",
        "#load the dataset\n",
        "(x_train,y_train),(x_test,y_test) = mnist.load_data()\n",
        "model = load_model('/content/mnist_simple_cnn_10_Epochs.h5')"
      ],
      "execution_count": 29,
      "outputs": []
    },
    {
      "cell_type": "markdown",
      "metadata": {
        "id": "SmxFT-Vgq0dp",
        "colab_type": "text"
      },
      "source": [
        ""
      ]
    },
    {
      "cell_type": "code",
      "metadata": {
        "id": "TMxV2kzb8m25",
        "colab_type": "code",
        "colab": {
          "base_uri": "https://localhost:8080/",
          "height": 35
        },
        "outputId": "35f7e51e-9479-40e7-d413-f03b0ce570d5"
      },
      "source": [
        "#get data into right shape for keras\n",
        "#have a variable for number of rows and columns\n",
        "img_rows = x_train[0].shape[0]\n",
        "img_columns = x_train[0].shape[1]\n",
        "x_test = x_test.reshape(x_test.shape[0], img_rows, img_columns, 1) #similar to one-hot encoding\n",
        "\n",
        "#store the shape of a single image\n",
        "input_shape = (img_rows, img_columns, 1)\n",
        "\n",
        "#change image type to float32\n",
        "x_test = x_test.astype('float32')\n",
        "\n",
        "#normalize the data by changing the range\n",
        "x_test /= 255.0\n",
        "y_test = to_categorical(y_test)\n",
        "print(x_test.shape[0], 'test samples')"
      ],
      "execution_count": 30,
      "outputs": [
        {
          "output_type": "stream",
          "text": [
            "10000 test samples\n"
          ],
          "name": "stdout"
        }
      ]
    },
    {
      "cell_type": "code",
      "metadata": {
        "id": "gu0wB2ZL9uow",
        "colab_type": "code",
        "colab": {
          "base_uri": "https://localhost:8080/",
          "height": 588
        },
        "outputId": "5f21b946-8295-4416-db0a-3888600ebaa3"
      },
      "source": [
        "#displaying the classification report\n",
        "from sklearn.metrics import classification_report, confusion_matrix\n",
        "import numpy as np\n",
        "\n",
        "y_pred = model.predict_classes(x_test)\n",
        "\n",
        "print(classification_report(np.argmax(y_test,axis=1),y_pred))\n",
        "print(confusion_matrix(np.argmax(y_test,axis=1),y_pred))\n"
      ],
      "execution_count": 31,
      "outputs": [
        {
          "output_type": "stream",
          "text": [
            "WARNING:tensorflow:From <ipython-input-31-7005bb2820f5>:5: Sequential.predict_classes (from tensorflow.python.keras.engine.sequential) is deprecated and will be removed after 2021-01-01.\n",
            "Instructions for updating:\n",
            "Please use instead:* `np.argmax(model.predict(x), axis=-1)`,   if your model does multi-class classification   (e.g. if it uses a `softmax` last-layer activation).* `(model.predict(x) > 0.5).astype(\"int32\")`,   if your model does binary classification   (e.g. if it uses a `sigmoid` last-layer activation).\n",
            "              precision    recall  f1-score   support\n",
            "\n",
            "           0       0.98      0.99      0.99       980\n",
            "           1       0.99      0.99      0.99      1135\n",
            "           2       0.98      0.98      0.98      1032\n",
            "           3       0.99      0.99      0.99      1010\n",
            "           4       0.99      0.99      0.99       982\n",
            "           5       0.98      0.99      0.99       892\n",
            "           6       0.99      0.99      0.99       958\n",
            "           7       0.97      0.98      0.98      1028\n",
            "           8       0.99      0.97      0.98       974\n",
            "           9       0.99      0.97      0.98      1009\n",
            "\n",
            "    accuracy                           0.98     10000\n",
            "   macro avg       0.98      0.98      0.98     10000\n",
            "weighted avg       0.98      0.98      0.98     10000\n",
            "\n",
            "[[ 974    0    1    0    0    1    1    1    2    0]\n",
            " [   0 1128    2    1    0    1    2    0    1    0]\n",
            " [   1    4 1016    1    1    0    1    8    0    0]\n",
            " [   0    0    2  997    0    4    0    5    2    0]\n",
            " [   1    0    1    0  968    0    3    1    1    7]\n",
            " [   1    0    0    3    0  885    2    1    0    0]\n",
            " [   5    3    0    0    1    2  946    0    1    0]\n",
            " [   0    3   10    2    0    0    0 1011    2    0]\n",
            " [   6    0    3    1    2    3    2    4  947    6]\n",
            " [   4    6    0    3    5    3    0   10    1  977]]\n"
          ],
          "name": "stdout"
        }
      ]
    },
    {
      "cell_type": "code",
      "metadata": {
        "id": "WW4cjAmaXEKT",
        "colab_type": "code",
        "colab": {
          "base_uri": "https://localhost:8080/",
          "height": 72
        },
        "outputId": "1d52203f-6548-4214-e4f0-b08a863d991c"
      },
      "source": [
        "import cv2\n",
        "import numpy as np\n",
        "from tensorflow.keras.datasets import mnist\n",
        "\n",
        "#load the data\n",
        "(x_train,y_train),(x_test,y_test)=mnist.load_data()\n",
        "#use numeric python to craete an array that store values of 1 when misclassification ocurs\n",
        "result=np.absolute(y_test,y_pred)\n",
        "result_indices=np.nonzero(result>0)\n",
        "\n",
        "#display the indices of the misclassification\n",
        "print('indices misclassification data are:\\n\\n'+ str(result_indices))"
      ],
      "execution_count": 34,
      "outputs": [
        {
          "output_type": "stream",
          "text": [
            "indices misclassification data are:\n",
            "\n",
            "(array([   0,    1,    2, ..., 9997, 9998, 9999]),)\n"
          ],
          "name": "stdout"
        }
      ]
    },
    {
      "cell_type": "code",
      "metadata": {
        "id": "3nNX9d52JacE",
        "colab_type": "code",
        "colab": {
          "base_uri": "https://localhost:8080/",
          "height": 320
        },
        "outputId": "153f3326-6752-4814-b0bb-560a7b9efafb"
      },
      "source": [
        "from tensorflow.keras.models import Model\n",
        "\n",
        "#extract the output of the top 7 layers-layer outputs\n",
        "layer_outputs = [layer.output for layer in model.layers[:7]]\n",
        "\n",
        "#create a model to retun those outputs given the model's input\n",
        "activation_model =Model(inputs=model.input,outputs=layer_outputs)\n",
        "\n",
        "#display the test image of the activation model\n",
        "img_tensor = x_test[151].reshape(1,28,28,1)\n",
        "figure1 = plt.figure(figsize=(5,5))\n",
        "plt.imshow(img_tensor[0,:,:,0],cmap='inferno')\n",
        "plt.axis='off'"
      ],
      "execution_count": 35,
      "outputs": [
        {
          "output_type": "display_data",
          "data": {
            "image/png": "[encoded data removed]",
            "text/plain": [
              "<Figure size 360x360 with 1 Axes>"
            ]
          },
          "metadata": {
            "tags": [],
            "needs_background": "light"
          }
        }
      ]
    },
    {
      "cell_type": "code",
      "metadata": {
        "id": "fc0nirP2d1zO",
        "colab_type": "code",
        "colab": {
          "base_uri": "https://localhost:8080/",
          "height": 35
        },
        "outputId": "b6780869-c7d1-4360-ad3a-d89c4604c6d5"
      },
      "source": [
        "#run the model in predict mode to get the activation layers\n",
        "#when an image is read, it returns the values of the activation\n",
        "\n",
        "activations = activation_model.predict(img_tensor)\n",
        "print(\"number of activation layers: \"+ str(len(activations)))"
      ],
      "execution_count": 36,
      "outputs": [
        {
          "output_type": "stream",
          "text": [
            "number of activation layers: 7\n"
          ],
          "name": "stdout"
        }
      ]
    },
    {
      "cell_type": "code",
      "metadata": {
        "id": "QS4ePZ9ceiDV",
        "colab_type": "code",
        "colab": {
          "base_uri": "https://localhost:8080/",
          "height": 74
        },
        "outputId": "4a84f67a-694c-4650-d080-e5fbac1ab28a"
      },
      "source": [
        "#activation of the first conv layer for the image input\n",
        "first_layer_activation = activations[0]\n",
        "print(first_layer_activation.shape)\n",
        "print(model.summary)"
      ],
      "execution_count": 37,
      "outputs": [
        {
          "output_type": "stream",
          "text": [
            "(1, 26, 26, 32)\n",
            "<bound method Model.summary of <tensorflow.python.keras.engine.sequential.Sequential object at 0x7fbeb1389518>>\n"
          ],
          "name": "stdout"
        }
      ]
    },
    {
      "cell_type": "markdown",
      "metadata": {
        "id": "DSfzm_sgfJe4",
        "colab_type": "text"
      },
      "source": [
        "### Plot output of 4th conv filter in the 1st conv layer"
      ]
    },
    {
      "cell_type": "code",
      "metadata": {
        "id": "VEdDXHf_fIWZ",
        "colab_type": "code",
        "colab": {
          "base_uri": "https://localhost:8080/",
          "height": 293
        },
        "outputId": "ec7da62f-adfe-4be7-c736-c186c7c64d81"
      },
      "source": [
        "plt.matshow(first_layer_activation[0,:,:,3],cmap = 'viridis')"
      ],
      "execution_count": 38,
      "outputs": [
        {
          "output_type": "execute_result",
          "data": {
            "text/plain": [
              "<matplotlib.image.AxesImage at 0x7fbe9527aba8>"
            ]
          },
          "metadata": {
            "tags": []
          },
          "execution_count": 38
        },
        {
          "output_type": "display_data",
          "data": {
            "image/png": "[encoded data removed]",
            "text/plain": [
              "<Figure size 288x288 with 1 Axes>"
            ]
          },
          "metadata": {
            "tags": [],
            "needs_background": "light"
          }
        }
      ]
    },
    {
      "cell_type": "code",
      "metadata": {
        "id": "5NJTSLyogBP1",
        "colab_type": "code",
        "colab": {
          "base_uri": "https://localhost:8080/",
          "height": 621
        },
        "outputId": "e102140f-35d2-431f-d9ac-37e51a4a4d2e"
      },
      "source": [
        "#create a function to display the actiavrtion of a specific layer the behaviour of how the model makes a decision\n",
        "\n",
        "def display_activations(activations,col_size,row_size,act_index):\n",
        "  activation = activations[act_index]\n",
        "  activation_index = 0\n",
        "  fig,ax = plt.subplots(row_size, col_size, figsize=(row_size*2.5,col_size*1.5))\n",
        "  for row in range(0,row_size):\n",
        "    for col in range(0,col_size):\n",
        "      ax[row][col].imshow(activation[0,:,:,activation_index],cmap = 'viridis')\n",
        "      activation_index += 1\n",
        "\n",
        "\n",
        "display_activations(activations,8,4,1)"
      ],
      "execution_count": 39,
      "outputs": [
        {
          "output_type": "display_data",
          "data": {
            "image/png": "[encoded data removed]",
            "text/plain": [
              "<Figure size 720x864 with 32 Axes>"
            ]
          },
          "metadata": {
            "tags": [],
            "needs_background": "light"
          }
        }
      ]
    },
    {
      "cell_type": "markdown",
      "metadata": {
        "id": "I0qqcGQvhuK2",
        "colab_type": "text"
      },
      "source": [
        "## Part Two: Assignment"
      ]
    },
    {
      "cell_type": "code",
      "metadata": {
        "id": "SDWSJRXIh3tT",
        "colab_type": "code",
        "colab": {}
      },
      "source": [
        ""
      ],
      "execution_count": null,
      "outputs": []
    }
  ]
}